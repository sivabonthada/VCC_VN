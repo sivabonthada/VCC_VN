{
 "cells": [
  {
   "cell_type": "markdown",
   "metadata": {
    "id": "QaxGlTLABgyP"
   },
   "source": [
    "# **Dynamic Mapping and Quality of Service Driven Re-Embedding in Virtualization**\n",
    "\n",
    "# Code implementation: Siva Bonthada (212IS034)  & Durga Vinay Bonthu (212IS006)\n",
    "# Course: Virtualization and Cloud Computing - CS728\n",
    "# Semester: II-M.Tech"
   ]
  },
  {
   "cell_type": "code",
   "execution_count": 2,
   "metadata": {
    "colab": {
     "base_uri": "https://localhost:8080/"
    },
    "executionInfo": {
     "elapsed": 3792,
     "status": "ok",
     "timestamp": 1652980550095,
     "user": {
      "displayName": "Siva Bonthada",
      "userId": "14795380789058481213"
     },
     "user_tz": -330
    },
    "id": "UDLHHw_bLXj1",
    "outputId": "ba8af0a7-a973-43a9-f72d-2c82b99d3226"
   },
   "outputs": [
    {
     "name": "stderr",
     "output_type": "stream",
     "text": [
      "'unzip' is not recognized as an internal or external command,\n",
      "operable program or batch file.\n"
     ]
    }
   ],
   "source": [
    "!unzip alib.zip"
   ]
  },
  {
   "cell_type": "markdown",
   "metadata": {
    "id": "ujxTclZBNwAp"
   },
   "source": [
    "#Installing the requirements"
   ]
  },
  {
   "cell_type": "code",
   "execution_count": 120,
   "metadata": {
    "colab": {
     "base_uri": "https://localhost:8080/"
    },
    "executionInfo": {
     "elapsed": 7060,
     "status": "ok",
     "timestamp": 1652980725706,
     "user": {
      "displayName": "Siva Bonthada",
      "userId": "14795380789058481213"
     },
     "user_tz": -330
    },
    "id": "WNaaRXF0Ls2a",
    "outputId": "bad20d43-73b0-4c31-ebbd-5327019f0d35"
   },
   "outputs": [
    {
     "name": "stdout",
     "output_type": "stream",
     "text": [
      "Requirement already satisfied: gurobipy in /usr/local/lib/python3.7/dist-packages (9.5.1)\n",
      "Requirement already satisfied: Unidecode in /usr/local/lib/python3.7/dist-packages (1.3.4)\n"
     ]
    }
   ],
   "source": [
    "!pip install gurobipy\n",
    "!pip install Unidecode"
   ]
  },
  {
   "cell_type": "markdown",
   "metadata": {
    "id": "OZlKdVKjN1T4"
   },
   "source": [
    "# Reading the Graph input from the pickle file"
   ]
  },
  {
   "cell_type": "code",
   "execution_count": 121,
   "metadata": {
    "colab": {
     "base_uri": "https://localhost:8080/"
    },
    "executionInfo": {
     "elapsed": 1914,
     "status": "ok",
     "timestamp": 1652980732157,
     "user": {
      "displayName": "Siva Bonthada",
      "userId": "14795380789058481213"
     },
     "user_tz": -330
    },
    "id": "shD_8PhxL7tk",
    "outputId": "92d59a24-eeab-4b09-b5ca-983963da56eb"
   },
   "outputs": [
    {
     "name": "stdout",
     "output_type": "stream",
     "text": [
      "Total number of nodes in the entire graph is : 84\n",
      "\n",
      "The node weights are assigned as follows:\n",
      "{0: 20384, 1: 127021, 2: 297374, 3: 140702, 4: 142586, 5: 359681, 6: 497295, 7: 233929, 8: 241931, 9: 159035, 10: 19151, 11: 466085, 12: 262973, 13: 432188, 14: 138003, 15: 375071, 16: 252534, 17: 322366, 18: 31042, 19: 468912, 20: 482582, 21: 78815, 22: 491010, 23: 218352, 24: 384703, 25: 98538, 26: 287869, 27: 104521, 28: 136565, 29: 283402, 30: 172827, 31: 336842, 32: 275990, 33: 436229, 34: 170474, 35: 72262, 36: 74810, 37: 382571, 38: 158420, 39: 354635, 40: 179284, 41: 141108, 42: 81267, 43: 373266, 44: 29542, 45: 266320, 46: 349271, 47: 40954, 48: 65226, 49: 464017, 50: 102288, 51: 483997, 52: 351462, 53: 416087, 54: 92170, 55: 53122, 56: 30219, 57: 176897, 58: 224640, 59: 434396, 60: 224371, 61: 74570, 62: 202438, 63: 55437, 64: 187814, 65: 203546, 66: 220189, 67: 105240, 68: 452043, 69: 165759, 70: 179369, 71: 143018, 72: 264898, 73: 494291, 74: 174341, 75: 293951, 76: 433841, 77: 428990, 78: 89543, 79: 13010, 80: 341075, 81: 16852, 82: 119812, 83: 398323}\n",
      "\n",
      "The edge weights / bandwidth are assigned as follows:\n",
      "{('22', '18'): 355087, ('18', '22'): 355087, ('3', '2'): 20834, ('2', '3'): 20834, ('23', '31'): 187899, ('31', '23'): 187899, ('19', '38'): 203397, ('38', '19'): 203397, ('17', '49'): 388685, ('49', '17'): 388685, ('9', '10'): 33204, ('10', '9'): 33204, ('61', '21'): 324047, ('21', '61'): 324047, ('28', '26'): 259543, ('26', '28'): 259543, ('70', '50'): 277109, ('50', '70'): 277109, ('37', '60'): 429673, ('60', '37'): 429673, ('82', '34'): 349984, ('34', '82'): 349984, ('71', '6'): 30531, ('6', '71'): 30531, ('67', '51'): 306123, ('51', '67'): 306123, ('27', '5'): 13042, ('5', '27'): 13042, ('45', '30'): 11072, ('30', '45'): 11072, ('20', '22'): 440743, ('22', '20'): 440743, ('77', '78'): 224077, ('78', '77'): 224077, ('48', '54'): 182355, ('54', '48'): 182355, ('79', '34'): 371876, ('34', '79'): 371876, ('33', '60'): 349249, ('60', '33'): 349249, ('80', '36'): 427775, ('36', '80'): 427775, ('6', '54'): 445722, ('54', '6'): 445722, ('45', '1'): 489729, ('1', '45'): 489729, ('4', '10'): 122317, ('10', '4'): 122317, ('68', '69'): 243027, ('69', '68'): 243027, ('61', '69'): 38612, ('69', '61'): 38612, ('55', '11'): 150080, ('11', '55'): 150080, ('42', '41'): 234327, ('41', '42'): 234327, ('11', '60'): 192977, ('60', '11'): 192977, ('48', '20'): 272386, ('20', '48'): 272386, ('52', '60'): 287046, ('60', '52'): 287046, ('13', '55'): 52861, ('55', '13'): 52861, ('46', '47'): 72244, ('47', '46'): 72244, ('57', '58'): 476229, ('58', '57'): 476229, ('12', '59'): 429867, ('59', '12'): 429867, ('24', '28'): 273070, ('28', '24'): 273070, ('66', '12'): 14580, ('12', '66'): 14580, ('3', '53'): 435746, ('53', '3'): 435746, ('46', '69'): 476575, ('69', '46'): 476575, ('59', '38'): 119426, ('38', '59'): 119426, ('59', '19'): 365367, ('19', '59'): 365367, ('77', '76'): 318450, ('76', '77'): 318450, ('74', '78'): 38762, ('78', '74'): 38762, ('14', '19'): 148214, ('19', '14'): 148214, ('65', '4'): 272985, ('4', '65'): 272985, ('63', '16'): 332725, ('16', '63'): 332725, ('19', '33'): 173354, ('33', '19'): 173354, ('53', '35'): 390328, ('35', '53'): 390328, ('18', '16'): 300771, ('16', '18'): 300771, ('15', '19'): 228902, ('19', '15'): 228902, ('18', '31'): 268348, ('31', '18'): 268348, ('64', '57'): 315251, ('57', '64'): 315251, ('78', '47'): 44641, ('47', '78'): 44641, ('9', '8'): 410973, ('8', '9'): 410973, ('81', '34'): 94017, ('34', '81'): 94017, ('23', '25'): 380286, ('25', '23'): 380286, ('62', '63'): 498936, ('63', '62'): 498936, ('5', '65'): 488848, ('65', '5'): 488848, ('1', '44'): 165597, ('44', '1'): 165597, ('35', '40'): 21113, ('40', '35'): 21113, ('73', '74'): 227515, ('74', '73'): 227515, ('58', '14'): 221582, ('14', '58'): 221582, ('52', '5'): 365147, ('5', '52'): 365147, ('83', '56'): 318854, ('56', '83'): 318854, ('50', '62'): 446373, ('62', '50'): 446373, ('58', '15'): 393760, ('15', '58'): 393760, ('75', '8'): 435392, ('8', '75'): 435392, ('55', '10'): 324031, ('10', '55'): 324031, ('7', '30'): 307270, ('30', '7'): 307270, ('77', '79'): 442834, ('79', '77'): 442834, ('40', '41'): 292651, ('41', '40'): 292651, ('36', '13'): 194438, ('13', '36'): 194438, ('25', '5'): 461732, ('5', '25'): 461732, ('72', '49'): 451558, ('49', '72'): 451558, ('32', '19'): 393407, ('19', '32'): 393407, ('1', '71'): 317702, ('71', '1'): 317702, ('44', '0'): 45726, ('0', '44'): 45726, ('56', '2'): 63199, ('2', '56'): 63199, ('13', '75'): 160105, ('75', '13'): 160105, ('37', '38'): 465714, ('38', '37'): 465714, ('72', '51'): 208448, ('51', '72'): 208448, ('41', '43'): 287103, ('43', '41'): 287103, ('43', '0'): 310060, ('0', '43'): 310060, ('17', '78'): 111817, ('78', '17'): 111817, ('21', '18'): 481683, ('18', '21'): 481683, ('39', '40'): 391849, ('40', '39'): 391849, ('27', '26'): 89163, ('26', '27'): 89163, ('7', '29'): 482750, ('29', '7'): 482750, ('67', '68'): 477088, ('68', '67'): 477088, ('75', '29'): 451768, ('29', '75'): 451768, ('68', '70'): 119834, ('70', '68'): 119834, ('24', '31'): 35465, ('31', '24'): 35465, ('55', '66'): 441368, ('66', '55'): 441368}\n",
      "\n",
      "The edge dealys are assigned as follows:\n",
      "{('22', '18'): 1, ('18', '22'): 1, ('3', '2'): 1, ('2', '3'): 1, ('23', '31'): 1, ('31', '23'): 1, ('19', '38'): 1, ('38', '19'): 1, ('17', '49'): 1, ('49', '17'): 1, ('9', '10'): 1, ('10', '9'): 1, ('61', '21'): 1, ('21', '61'): 1, ('28', '26'): 1, ('26', '28'): 1, ('70', '50'): 1, ('50', '70'): 1, ('37', '60'): 1, ('60', '37'): 1, ('82', '34'): 1, ('34', '82'): 1, ('71', '6'): 1, ('6', '71'): 1, ('67', '51'): 1, ('51', '67'): 1, ('27', '5'): 1, ('5', '27'): 1, ('45', '30'): 1, ('30', '45'): 1, ('20', '22'): 1, ('22', '20'): 1, ('77', '78'): 1, ('78', '77'): 1, ('48', '54'): 1, ('54', '48'): 1, ('79', '34'): 1, ('34', '79'): 1, ('33', '60'): 1, ('60', '33'): 1, ('80', '36'): 1, ('36', '80'): 1, ('6', '54'): 1, ('54', '6'): 1, ('45', '1'): 1, ('1', '45'): 1, ('4', '10'): 1, ('10', '4'): 1, ('68', '69'): 1, ('69', '68'): 1, ('61', '69'): 1, ('69', '61'): 1, ('55', '11'): 1, ('11', '55'): 1, ('42', '41'): 1, ('41', '42'): 1, ('11', '60'): 1, ('60', '11'): 1, ('48', '20'): 1, ('20', '48'): 1, ('52', '60'): 1, ('60', '52'): 1, ('13', '55'): 1, ('55', '13'): 1, ('46', '47'): 1, ('47', '46'): 1, ('57', '58'): 1, ('58', '57'): 1, ('12', '59'): 1, ('59', '12'): 1, ('24', '28'): 1, ('28', '24'): 1, ('66', '12'): 1, ('12', '66'): 1, ('3', '53'): 1, ('53', '3'): 1, ('46', '69'): 1, ('69', '46'): 1, ('59', '38'): 1, ('38', '59'): 1, ('59', '19'): 1, ('19', '59'): 1, ('77', '76'): 1, ('76', '77'): 1, ('74', '78'): 1, ('78', '74'): 1, ('14', '19'): 1, ('19', '14'): 1, ('65', '4'): 1, ('4', '65'): 1, ('63', '16'): 1, ('16', '63'): 1, ('19', '33'): 1, ('33', '19'): 1, ('53', '35'): 1, ('35', '53'): 1, ('18', '16'): 1, ('16', '18'): 1, ('15', '19'): 1, ('19', '15'): 1, ('18', '31'): 1, ('31', '18'): 1, ('64', '57'): 1, ('57', '64'): 1, ('78', '47'): 1, ('47', '78'): 1, ('9', '8'): 1, ('8', '9'): 1, ('81', '34'): 1, ('34', '81'): 1, ('23', '25'): 1, ('25', '23'): 1, ('62', '63'): 1, ('63', '62'): 1, ('5', '65'): 1, ('65', '5'): 1, ('1', '44'): 1, ('44', '1'): 1, ('35', '40'): 1, ('40', '35'): 1, ('73', '74'): 1, ('74', '73'): 1, ('58', '14'): 1, ('14', '58'): 1, ('52', '5'): 1, ('5', '52'): 1, ('83', '56'): 1, ('56', '83'): 1, ('50', '62'): 1, ('62', '50'): 1, ('58', '15'): 1, ('15', '58'): 1, ('75', '8'): 1, ('8', '75'): 1, ('55', '10'): 1, ('10', '55'): 1, ('7', '30'): 1, ('30', '7'): 1, ('77', '79'): 1, ('79', '77'): 1, ('40', '41'): 1, ('41', '40'): 1, ('36', '13'): 1, ('13', '36'): 1, ('25', '5'): 1, ('5', '25'): 1, ('72', '49'): 1, ('49', '72'): 1, ('32', '19'): 1, ('19', '32'): 1, ('1', '71'): 1, ('71', '1'): 1, ('44', '0'): 1, ('0', '44'): 1, ('56', '2'): 1, ('2', '56'): 1, ('13', '75'): 1, ('75', '13'): 1, ('37', '38'): 1, ('38', '37'): 1, ('72', '51'): 1, ('51', '72'): 1, ('41', '43'): 1, ('43', '41'): 1, ('43', '0'): 1, ('0', '43'): 1, ('17', '78'): 1, ('78', '17'): 1, ('21', '18'): 1, ('18', '21'): 1, ('39', '40'): 1, ('40', '39'): 1, ('27', '26'): 1, ('26', '27'): 1, ('7', '29'): 1, ('29', '7'): 1, ('67', '68'): 1, ('68', '67'): 1, ('75', '29'): 1, ('29', '75'): 1, ('68', '70'): 1, ('70', '68'): 1, ('24', '31'): 1, ('31', '24'): 1, ('55', '66'): 1, ('66', '55'): 1}\n",
      "\n"
     ]
    }
   ],
   "source": [
    "#readpickle.py\n",
    "import pickle\n",
    "with open('input.pickle', 'rb') as handle:\n",
    "    b = pickle.load(handle)\n",
    "\n",
    "sn_graph=b.get(\"substrate\")\n",
    "nodes_sn_graph=sn_graph.nodes\n",
    "#Pringing the total number of nodes\n",
    "print(\"Total number of nodes in the entire graph is : {}\\n\".format(nodes_sn_graph))\n",
    "\n",
    "SN_node_CRB=sn_graph.node_weights\n",
    "SN_edge_BW=sn_graph.edge_weights\n",
    "SN_edge_Delay = sn_graph.delay\n",
    "\n",
    "#Print nodes with weights assigned\n",
    "print(\"The node weights are assigned as follows:\\n{}\\n\".format(SN_node_CRB))\n",
    "#Print edges weights which is bandwidth requirement of the link.\n",
    "print(\"The edge weights / bandwidth are assigned as follows:\\n{}\\n\".format(SN_edge_BW))\n",
    "#Print edge propagation delay of each link.\n",
    "print(\"The edge dealys are assigned as follows:\\n{}\\n\".format(SN_edge_Delay))"
   ]
  },
  {
   "cell_type": "markdown",
   "metadata": {
    "id": "2heAxaEpOelp"
   },
   "source": [
    "# Main function and create VNE function\n",
    "\n"
   ]
  },
  {
   "cell_type": "code",
   "execution_count": 122,
   "metadata": {
    "colab": {
     "base_uri": "https://localhost:8080/"
    },
    "executionInfo": {
     "elapsed": 425,
     "status": "ok",
     "timestamp": 1652980735550,
     "user": {
      "displayName": "Siva Bonthada",
      "userId": "14795380789058481213"
     },
     "user_tz": -330
    },
    "id": "AkA8nKalL6fo",
    "outputId": "ecb1b5ae-0d48-4293-c196-3cdbc8052fdc"
   },
   "outputs": [
    {
     "name": "stdout",
     "output_type": "stream",
     "text": [
      "Randomly produced new VNE REQ is : \n",
      " [{1: [2], 2: [3, 1], 3: [2]}] \n",
      "\n"
     ]
    }
   ],
   "source": [
    "#create vne\n",
    "import networkx as nx\n",
    "import random\n",
    "import graph\n",
    "from graph import Parameters\n",
    "import numpy as np\n",
    "\n",
    "\n",
    "def create_vne(min_nodes=2, max_nodes=10, no_requests=1, probability=0.4):\n",
    "    random_node_list_arr = np.random.uniform(min_nodes, max_nodes, no_requests)\n",
    "    random_node_list = [int(i) for i in random_node_list_arr]\n",
    "    new_vne_req = []\n",
    "    for req in random_node_list:\n",
    "        G = nx.erdos_renyi_graph(req, probability, directed=False)\n",
    "        ng = nx.to_dict_of_lists(G)\n",
    "        g = {}\n",
    "        for i in ng:\n",
    "            g[i + 1] = []\n",
    "            for j in ng[i]:\n",
    "                g[i + 1].append(j + 1)\n",
    "\n",
    "        if not nx.is_connected(G):\n",
    "            null_node_list = [key for key, val in g.items() if not val]\n",
    "            graph_node_count = {_key: len(_val) for _key, _val in g.items()}\n",
    "            sorted_dict_list = sorted(\n",
    "                graph_node_count.items(), key=lambda x: x[1], reverse=True\n",
    "            )\n",
    "            if len(null_node_list) != len(g):\n",
    "                for index, empty_node in enumerate(null_node_list):\n",
    "                    g[sorted_dict_list[index][0]].append(empty_node)\n",
    "                    g[empty_node].append(sorted_dict_list[index][0])\n",
    "            else:\n",
    "                for i in range(len(g)):\n",
    "                    for j in range(len(g) - i - 1):\n",
    "                        if null_node_list[j + 1] not in g[null_node_list[j]]:\n",
    "                            g[null_node_list[j]].append(null_node_list[j + 1])\n",
    "                        if null_node_list[j] not in g[null_node_list[j + 1]]:\n",
    "                            g[null_node_list[j + 1]].append(null_node_list[j])\n",
    "        new_vne_req.append(g)\n",
    "\n",
    "    print(\"Randomly produced new VNE REQ is : \\n {} \\n\".format(new_vne_req))\n",
    "    vne = []\n",
    "    for i in range(len(new_vne_req)):\n",
    "        edges = set()\n",
    "        nodes = len(new_vne_req[i])\n",
    "        for j in range(nodes):\n",
    "            for k in new_vne_req[i][j + 1]:\n",
    "                edges.add((str(j), str(k - 1)))\n",
    "        vne.append(graph.Graph(nodes, edges, Parameters(1, 10, 1, 10, 0, 100, 0, 100, 1, 4)) )  # for vne request BW ,CRB, Location,Delay\n",
    "\n",
    "    return vne\n",
    "\n",
    "\n",
    "if __name__ == \"__main__\":\n",
    "    my_vne=create_vne()"
   ]
  },
  {
   "cell_type": "code",
   "execution_count": 123,
   "metadata": {
    "colab": {
     "base_uri": "https://localhost:8080/"
    },
    "executionInfo": {
     "elapsed": 815,
     "status": "ok",
     "timestamp": 1652980739232,
     "user": {
      "displayName": "Siva Bonthada",
      "userId": "14795380789058481213"
     },
     "user_tz": -330
    },
    "id": "keGWdK1OXLyC",
    "outputId": "8eac6d66-058c-4ee9-9bde-5033accea82f"
   },
   "outputs": [
    {
     "name": "stdout",
     "output_type": "stream",
     "text": [
      "The edge weights of the  newly created random VNE : \n",
      "{('1', '0'): 8, ('0', '1'): 8, ('2', '1'): 4, ('1', '2'): 4}\n",
      "\n"
     ]
    }
   ],
   "source": [
    "#Printing the edge weights of the newly created random VNE\n",
    "print(\"The edge weights of the  newly created random VNE : \\n{}\\n\".format(my_vne[0].edge_weights))"
   ]
  },
  {
   "cell_type": "markdown",
   "metadata": {
    "id": "r8nAv3lXOr0R"
   },
   "source": [
    "# Sorting PN Nodes"
   ]
  },
  {
   "cell_type": "code",
   "execution_count": 124,
   "metadata": {
    "colab": {
     "base_uri": "https://localhost:8080/"
    },
    "executionInfo": {
     "elapsed": 5,
     "status": "ok",
     "timestamp": 1652980741068,
     "user": {
      "displayName": "Siva Bonthada",
      "userId": "14795380789058481213"
     },
     "user_tz": -330
    },
    "id": "new6oOyINCTA",
    "outputId": "ddf4a405-6cf4-4675-e9da-fbbc52f89064"
   },
   "outputs": [
    {
     "name": "stdout",
     "output_type": "stream",
     "text": [
      "Nodes in PN are sorted using node weights : \n",
      "{6: 497295, 73: 494291, 22: 491010, 51: 483997, 20: 482582, 19: 468912, 11: 466085, 49: 464017, 68: 452043, 33: 436229, 59: 434396, 76: 433841, 13: 432188, 77: 428990, 53: 416087, 83: 398323, 24: 384703, 37: 382571, 15: 375071, 43: 373266, 5: 359681, 39: 354635, 52: 351462, 46: 349271, 80: 341075, 31: 336842, 17: 322366, 2: 297374, 75: 293951, 26: 287869, 29: 283402, 32: 275990, 45: 266320, 72: 264898, 12: 262973, 16: 252534, 8: 241931, 7: 233929, 58: 224640, 60: 224371, 66: 220189, 23: 218352, 65: 203546, 62: 202438, 64: 187814, 70: 179369, 40: 179284, 57: 176897, 74: 174341, 30: 172827, 34: 170474, 69: 165759, 9: 159035, 38: 158420, 71: 143018, 4: 142586, 41: 141108, 3: 140702, 14: 138003, 28: 136565, 1: 127021, 82: 119812, 67: 105240, 27: 104521, 50: 102288, 25: 98538, 54: 92170, 78: 89543, 42: 81267, 21: 78815, 36: 74810, 61: 74570, 35: 72262, 48: 65226, 63: 55437, 55: 53122, 47: 40954, 18: 31042, 56: 30219, 44: 29542, 0: 20384, 10: 19151, 81: 16852, 79: 13010}\n",
      "\n"
     ]
    }
   ],
   "source": [
    "#Sorting the nodes based on node weights.\n",
    "sorted_values = sorted(SN_node_CRB.values(),reverse = True) # Sort the values\n",
    "#Decalring an empty dictionary to store the sorted nodes and corresponding weights\n",
    "sorted_PN = {}\n",
    "\n",
    "for i in sorted_values:\n",
    "    for k in SN_node_CRB.keys():\n",
    "        if SN_node_CRB[k] == i:\n",
    "            sorted_PN[k] = SN_node_CRB[k]\n",
    "            break\n",
    "print(\"Nodes in PN are sorted using node weights : \\n{}\\n\".format(sorted_PN))"
   ]
  },
  {
   "cell_type": "markdown",
   "metadata": {
    "id": "_Q6XzQN4Ow9w"
   },
   "source": [
    "# Sorting VN Nodes"
   ]
  },
  {
   "cell_type": "code",
   "execution_count": 125,
   "metadata": {
    "colab": {
     "base_uri": "https://localhost:8080/"
    },
    "executionInfo": {
     "elapsed": 613,
     "status": "ok",
     "timestamp": 1652980744547,
     "user": {
      "displayName": "Siva Bonthada",
      "userId": "14795380789058481213"
     },
     "user_tz": -330
    },
    "id": "mQNWMordRwZH",
    "outputId": "7aba05d0-0828-4214-bea3-8eb10f5231b5"
   },
   "outputs": [
    {
     "name": "stdout",
     "output_type": "stream",
     "text": [
      "Nodes in VN are assigned weights : \n",
      "{0: 63623, 1: 88575, 2: 12951}\n",
      "\n"
     ]
    }
   ],
   "source": [
    "#Assigning the random weights to the nodes in the VNE.\n",
    "import random\n",
    "for w in my_vne[0].node_weights.keys():\n",
    "  my_vne[0].node_weights[w] = random.randint(10000,99999)\n",
    "print(\"Nodes in VN are assigned weights : \\n{}\\n\".format(my_vne[0].node_weights))\n"
   ]
  },
  {
   "cell_type": "code",
   "execution_count": 126,
   "metadata": {
    "colab": {
     "base_uri": "https://localhost:8080/"
    },
    "executionInfo": {
     "elapsed": 8,
     "status": "ok",
     "timestamp": 1652980746189,
     "user": {
      "displayName": "Siva Bonthada",
      "userId": "14795380789058481213"
     },
     "user_tz": -330
    },
    "id": "WFTFZY_HJqkC",
    "outputId": "8bad1598-fe59-4a02-aeeb-1d082aae4ced"
   },
   "outputs": [
    {
     "name": "stdout",
     "output_type": "stream",
     "text": [
      "Nodes in VN are sorted using node weights : \n",
      "{1: 88575, 0: 63623, 2: 12951}\n",
      "\n"
     ]
    }
   ],
   "source": [
    "#Sorting the nodes based on node weights.\n",
    "sorted_values = sorted(my_vne[0].node_weights.values(),reverse = True) # Sort the values\n",
    "#Decalring an empty dictionary to store the sorted nodes and corresponding weights\n",
    "sorted_VN = {}\n",
    "\n",
    "for i in sorted_values:\n",
    "    for k in my_vne[0].node_weights.keys():\n",
    "        if my_vne[0].node_weights[k] == i:\n",
    "            sorted_VN[k] = my_vne[0].node_weights[k]\n",
    "print(\"Nodes in VN are sorted using node weights : \\n{}\\n\".format(sorted_VN))"
   ]
  },
  {
   "cell_type": "code",
   "execution_count": 127,
   "metadata": {
    "colab": {
     "base_uri": "https://localhost:8080/"
    },
    "executionInfo": {
     "elapsed": 4,
     "status": "ok",
     "timestamp": 1652980748540,
     "user": {
      "displayName": "Siva Bonthada",
      "userId": "14795380789058481213"
     },
     "user_tz": -330
    },
    "id": "cmJJ6Js1vjKE",
    "outputId": "b5079d99-ae61-4d12-878d-cd905b876abe"
   },
   "outputs": [
    {
     "name": "stdout",
     "output_type": "stream",
     "text": [
      "Printing both PN and VN node weights after sorting out both : \n",
      "PN : {6: 497295, 73: 494291, 22: 491010, 51: 483997, 20: 482582, 19: 468912, 11: 466085, 49: 464017, 68: 452043, 33: 436229, 59: 434396, 76: 433841, 13: 432188, 77: 428990, 53: 416087, 83: 398323, 24: 384703, 37: 382571, 15: 375071, 43: 373266, 5: 359681, 39: 354635, 52: 351462, 46: 349271, 80: 341075, 31: 336842, 17: 322366, 2: 297374, 75: 293951, 26: 287869, 29: 283402, 32: 275990, 45: 266320, 72: 264898, 12: 262973, 16: 252534, 8: 241931, 7: 233929, 58: 224640, 60: 224371, 66: 220189, 23: 218352, 65: 203546, 62: 202438, 64: 187814, 70: 179369, 40: 179284, 57: 176897, 74: 174341, 30: 172827, 34: 170474, 69: 165759, 9: 159035, 38: 158420, 71: 143018, 4: 142586, 41: 141108, 3: 140702, 14: 138003, 28: 136565, 1: 127021, 82: 119812, 67: 105240, 27: 104521, 50: 102288, 25: 98538, 54: 92170, 78: 89543, 42: 81267, 21: 78815, 36: 74810, 61: 74570, 35: 72262, 48: 65226, 63: 55437, 55: 53122, 47: 40954, 18: 31042, 56: 30219, 44: 29542, 0: 20384, 10: 19151, 81: 16852, 79: 13010}\n",
      "VN : {1: 88575, 0: 63623, 2: 12951}\n",
      "\n"
     ]
    }
   ],
   "source": [
    "print(\"Printing both PN and VN node weights after sorting out both : \\nPN : {}\\nVN : {}\\n\".format(sorted_PN,sorted_VN))"
   ]
  },
  {
   "cell_type": "markdown",
   "metadata": {
    "id": "_QobvRiLO3Wr"
   },
   "source": [
    "# Initial Embedding"
   ]
  },
  {
   "cell_type": "code",
   "execution_count": 128,
   "metadata": {
    "colab": {
     "base_uri": "https://localhost:8080/"
    },
    "executionInfo": {
     "elapsed": 6,
     "status": "ok",
     "timestamp": 1652980750910,
     "user": {
      "displayName": "Siva Bonthada",
      "userId": "14795380789058481213"
     },
     "user_tz": -330
    },
    "id": "HtSp-UzZPVD3",
    "outputId": "f018294f-9ebd-4021-9516-6e8075f2c7f0"
   },
   "outputs": [
    {
     "name": "stdout",
     "output_type": "stream",
     "text": [
      "Updating the weights while assigning the VNs to PNs: \n",
      "\n",
      "The weight of PN 6 after allocation and updation will be 497295 - 88575 = 408720 \n",
      "The weight of PN 73 after allocation and updation will be 494291 - 63623 = 430668 \n",
      "The weight of PN 22 after allocation and updation will be 491010 - 12951 = 478059 \n",
      "\n",
      "The assignment of VN to PN will be: \n",
      "\n",
      "VNode 1 will be allocate to PNode 6.\n",
      "VNode 0 will be allocate to PNode 73.\n",
      "VNode 2 will be allocate to PNode 22.\n",
      "\n",
      "The updated node weights for PN will be : \n",
      "\n",
      "{6: 408720, 73: 430668, 22: 478059, 51: 483997, 20: 482582, 19: 468912, 11: 466085, 49: 464017, 68: 452043, 33: 436229, 59: 434396, 76: 433841, 13: 432188, 77: 428990, 53: 416087, 83: 398323, 24: 384703, 37: 382571, 15: 375071, 43: 373266, 5: 359681, 39: 354635, 52: 351462, 46: 349271, 80: 341075, 31: 336842, 17: 322366, 2: 297374, 75: 293951, 26: 287869, 29: 283402, 32: 275990, 45: 266320, 72: 264898, 12: 262973, 16: 252534, 8: 241931, 7: 233929, 58: 224640, 60: 224371, 66: 220189, 23: 218352, 65: 203546, 62: 202438, 64: 187814, 70: 179369, 40: 179284, 57: 176897, 74: 174341, 30: 172827, 34: 170474, 69: 165759, 9: 159035, 38: 158420, 71: 143018, 4: 142586, 41: 141108, 3: 140702, 14: 138003, 28: 136565, 1: 127021, 82: 119812, 67: 105240, 27: 104521, 50: 102288, 25: 98538, 54: 92170, 78: 89543, 42: 81267, 21: 78815, 36: 74810, 61: 74570, 35: 72262, 48: 65226, 63: 55437, 55: 53122, 47: 40954, 18: 31042, 56: 30219, 44: 29542, 0: 20384, 10: 19151, 81: 16852, 79: 13010}\n"
     ]
    }
   ],
   "source": [
    "print(\"Updating the weights while assigning the VNs to PNs: \\n\")\n",
    "assignment = {}\n",
    "PN_status = [0] * 84\n",
    "for i in sorted_VN.keys():\n",
    "  for j in sorted_PN.keys():\n",
    "    if(sorted_VN[i] <=  sorted_PN[j]):\n",
    "      if(PN_status[j] == 0):\n",
    "        assignment[i] = j\n",
    "        PN_status[j] = 1\n",
    "        sorted_PN[j] = (sorted_PN[j] - sorted_VN[i])\n",
    "        print(\"The weight of PN {} after allocation and updation will be {} - {} = {} \" .format(j, (sorted_PN[j] + sorted_VN[i]), sorted_VN[i] ,  sorted_PN[j] ))\n",
    "        break\n",
    "print(\"\\nThe assignment of VN to PN will be: \\n\")\n",
    "for v in assignment:\n",
    "  print('VNode {} will be allocate to PNode {}.'.format(v,assignment[v]) )\n",
    "\n",
    "print(\"\\nThe updated node weights for PN will be : \\n\")\n",
    "print(sorted_PN)"
   ]
  },
  {
   "cell_type": "markdown",
   "metadata": {
    "id": "u1Kx0w7DO94_"
   },
   "source": [
    "# Checking the link delays"
   ]
  },
  {
   "cell_type": "code",
   "execution_count": 129,
   "metadata": {
    "colab": {
     "base_uri": "https://localhost:8080/"
    },
    "executionInfo": {
     "elapsed": 1020,
     "status": "ok",
     "timestamp": 1652980755813,
     "user": {
      "displayName": "Siva Bonthada",
      "userId": "14795380789058481213"
     },
     "user_tz": -330
    },
    "id": "nG_e77G3Z9PY",
    "outputId": "9275f92c-14c4-4c23-d3a6-c5e403681580"
   },
   "outputs": [
    {
     "name": "stdout",
     "output_type": "stream",
     "text": [
      "PN link delays are as follows : \n",
      "{('22', '18'): 1, ('18', '22'): 1, ('3', '2'): 1, ('2', '3'): 1, ('23', '31'): 1, ('31', '23'): 1, ('19', '38'): 1, ('38', '19'): 1, ('17', '49'): 1, ('49', '17'): 1, ('9', '10'): 1, ('10', '9'): 1, ('61', '21'): 1, ('21', '61'): 1, ('28', '26'): 1, ('26', '28'): 1, ('70', '50'): 1, ('50', '70'): 1, ('37', '60'): 1, ('60', '37'): 1, ('82', '34'): 1, ('34', '82'): 1, ('71', '6'): 1, ('6', '71'): 1, ('67', '51'): 1, ('51', '67'): 1, ('27', '5'): 1, ('5', '27'): 1, ('45', '30'): 1, ('30', '45'): 1, ('20', '22'): 1, ('22', '20'): 1, ('77', '78'): 1, ('78', '77'): 1, ('48', '54'): 1, ('54', '48'): 1, ('79', '34'): 1, ('34', '79'): 1, ('33', '60'): 1, ('60', '33'): 1, ('80', '36'): 1, ('36', '80'): 1, ('6', '54'): 1, ('54', '6'): 1, ('45', '1'): 1, ('1', '45'): 1, ('4', '10'): 1, ('10', '4'): 1, ('68', '69'): 1, ('69', '68'): 1, ('61', '69'): 1, ('69', '61'): 1, ('55', '11'): 1, ('11', '55'): 1, ('42', '41'): 1, ('41', '42'): 1, ('11', '60'): 1, ('60', '11'): 1, ('48', '20'): 1, ('20', '48'): 1, ('52', '60'): 1, ('60', '52'): 1, ('13', '55'): 1, ('55', '13'): 1, ('46', '47'): 1, ('47', '46'): 1, ('57', '58'): 1, ('58', '57'): 1, ('12', '59'): 1, ('59', '12'): 1, ('24', '28'): 1, ('28', '24'): 1, ('66', '12'): 1, ('12', '66'): 1, ('3', '53'): 1, ('53', '3'): 1, ('46', '69'): 1, ('69', '46'): 1, ('59', '38'): 1, ('38', '59'): 1, ('59', '19'): 1, ('19', '59'): 1, ('77', '76'): 1, ('76', '77'): 1, ('74', '78'): 1, ('78', '74'): 1, ('14', '19'): 1, ('19', '14'): 1, ('65', '4'): 1, ('4', '65'): 1, ('63', '16'): 1, ('16', '63'): 1, ('19', '33'): 1, ('33', '19'): 1, ('53', '35'): 1, ('35', '53'): 1, ('18', '16'): 1, ('16', '18'): 1, ('15', '19'): 1, ('19', '15'): 1, ('18', '31'): 1, ('31', '18'): 1, ('64', '57'): 1, ('57', '64'): 1, ('78', '47'): 1, ('47', '78'): 1, ('9', '8'): 1, ('8', '9'): 1, ('81', '34'): 1, ('34', '81'): 1, ('23', '25'): 1, ('25', '23'): 1, ('62', '63'): 1, ('63', '62'): 1, ('5', '65'): 1, ('65', '5'): 1, ('1', '44'): 1, ('44', '1'): 1, ('35', '40'): 1, ('40', '35'): 1, ('73', '74'): 1, ('74', '73'): 1, ('58', '14'): 1, ('14', '58'): 1, ('52', '5'): 1, ('5', '52'): 1, ('83', '56'): 1, ('56', '83'): 1, ('50', '62'): 1, ('62', '50'): 1, ('58', '15'): 1, ('15', '58'): 1, ('75', '8'): 1, ('8', '75'): 1, ('55', '10'): 1, ('10', '55'): 1, ('7', '30'): 1, ('30', '7'): 1, ('77', '79'): 1, ('79', '77'): 1, ('40', '41'): 1, ('41', '40'): 1, ('36', '13'): 1, ('13', '36'): 1, ('25', '5'): 1, ('5', '25'): 1, ('72', '49'): 1, ('49', '72'): 1, ('32', '19'): 1, ('19', '32'): 1, ('1', '71'): 1, ('71', '1'): 1, ('44', '0'): 1, ('0', '44'): 1, ('56', '2'): 1, ('2', '56'): 1, ('13', '75'): 1, ('75', '13'): 1, ('37', '38'): 1, ('38', '37'): 1, ('72', '51'): 1, ('51', '72'): 1, ('41', '43'): 1, ('43', '41'): 1, ('43', '0'): 1, ('0', '43'): 1, ('17', '78'): 1, ('78', '17'): 1, ('21', '18'): 1, ('18', '21'): 1, ('39', '40'): 1, ('40', '39'): 1, ('27', '26'): 1, ('26', '27'): 1, ('7', '29'): 1, ('29', '7'): 1, ('67', '68'): 1, ('68', '67'): 1, ('75', '29'): 1, ('29', '75'): 1, ('68', '70'): 1, ('70', '68'): 1, ('24', '31'): 1, ('31', '24'): 1, ('55', '66'): 1, ('66', '55'): 1}\n",
      "\n"
     ]
    }
   ],
   "source": [
    "print(\"PN link delays are as follows : \\n{}\\n\".format(SN_edge_Delay))"
   ]
  },
  {
   "cell_type": "code",
   "execution_count": 130,
   "metadata": {
    "colab": {
     "base_uri": "https://localhost:8080/"
    },
    "executionInfo": {
     "elapsed": 518,
     "status": "ok",
     "timestamp": 1652980759600,
     "user": {
      "displayName": "Siva Bonthada",
      "userId": "14795380789058481213"
     },
     "user_tz": -330
    },
    "id": "WRGE689VZhKS",
    "outputId": "b0a1f7d3-0000-47c1-a061-face99349935"
   },
   "outputs": [
    {
     "name": "stdout",
     "output_type": "stream",
     "text": [
      "{('1', '0'): 14, ('0', '1'): 9, ('2', '1'): 18, ('1', '2'): 19}\n"
     ]
    }
   ],
   "source": [
    "#print(my_vne[0].delay)\n",
    "#Printing VN delays\n",
    "import random\n",
    "for w in my_vne[0].delay.keys():\n",
    "  my_vne[0].delay[w] = random.randint(5,20)\n",
    "print(my_vne[0].delay)"
   ]
  },
  {
   "cell_type": "code",
   "execution_count": 131,
   "metadata": {
    "colab": {
     "base_uri": "https://localhost:8080/"
    },
    "executionInfo": {
     "elapsed": 2917,
     "status": "ok",
     "timestamp": 1652980768992,
     "user": {
      "displayName": "Siva Bonthada",
      "userId": "14795380789058481213"
     },
     "user_tz": -330
    },
    "id": "L17p7jreXbfJ",
    "outputId": "7d3f5006-ae60-435f-c18d-7eb391bd7029"
   },
   "outputs": [
    {
     "name": "stdout",
     "output_type": "stream",
     "text": [
      "{1: 6, 0: 73, 2: 22}\n"
     ]
    }
   ],
   "source": [
    "print(assignment)"
   ]
  },
  {
   "cell_type": "markdown",
   "metadata": {
    "id": "2kjMnAW4PDAp"
   },
   "source": [
    "# Finding QoS criteria of our Embedding"
   ]
  },
  {
   "cell_type": "code",
   "execution_count": 132,
   "metadata": {
    "colab": {
     "base_uri": "https://localhost:8080/"
    },
    "executionInfo": {
     "elapsed": 16,
     "status": "ok",
     "timestamp": 1652980772102,
     "user": {
      "displayName": "Siva Bonthada",
      "userId": "14795380789058481213"
     },
     "user_tz": -330
    },
    "id": "SSEQiYXDnZhe",
    "outputId": "3ea63ea9-310c-4228-d526-88fb20fe821b"
   },
   "outputs": [
    {
     "name": "stdout",
     "output_type": "stream",
     "text": [
      "Shortest delay path in PN : First node : 6 and Second node : 73\n",
      "The path for the above path is: ['6', '54', '48', '20', '22', '18', '21', '61', '69', '46', '47', '78', '74', '73']\n",
      "Path delay is : 13\n",
      "This link satisifies the requirements!!\n",
      "Shortest delay path in PN : First node : 73 and Second node : 6\n",
      "The path for the above path is: ['73', '74', '78', '47', '46', '69', '61', '21', '18', '22', '20', '48', '54', '6']\n",
      "Path delay is : 13\n",
      "This link does not satisify the requirements. So we need the reembedd!\n",
      "Shortest delay path in PN : First node : 22 and Second node : 6\n",
      "The path for the above path is: ['22', '20', '48', '54', '6']\n",
      "Path delay is : 4\n",
      "This link satisifies the requirements!!\n",
      "Shortest delay path in PN : First node : 6 and Second node : 22\n",
      "The path for the above path is: ['6', '54', '48', '20', '22']\n",
      "Path delay is : 4\n",
      "This link satisifies the requirements!!\n"
     ]
    }
   ],
   "source": [
    "for i in my_vne[0].delay.keys():\n",
    "  #print(\"For {} The assignments are : \" .format(i))\n",
    "  for j in assignment.keys():\n",
    "    if(j == int(i[0])):\n",
    "      first_node = str(assignment[j])\n",
    "    elif(j == int(i[1])):\n",
    "      second_node = str(assignment[j])\n",
    "  #Getting delay of this particular link in VN\n",
    "  dly = my_vne[0].delay[i]\n",
    "  print(\"Shortest delay path in PN : First node : {} and Second node : {}\".format(first_node,second_node))\n",
    "  #Finding the shortest path which has minimum delay.\n",
    "  pat = sn_graph.findShortestPath(first_node,second_node,dly)\n",
    "  #Printing the path that has been found by the algorithm.\n",
    "  print(\"The path for the above path is: {}\".format(pat))\n",
    "  #Computing the same link delay in the PN using shortest link dealy algorithm\n",
    "  res_del = 0\n",
    "  for m in range(0,len(pat)-1):\n",
    "    res_del = res_del + SN_edge_Delay[(str(pat[m]),str(pat[m+1]))]\n",
    "  #Printing the path delay in PN\n",
    "  print(\"Path delay is : {}\".format(res_del))\n",
    "  #Comparing the PN and VN delays to check whether QoS requirements met or not.\n",
    "  if(dly >=  res_del):\n",
    "    print(\"This link satisifies the requirements!!\")\n",
    "  else:\n",
    "    print(\"This link does not satisify the requirements. So we need the reembedd!\")\n",
    "\n",
    "  "
   ]
  },
  {
   "cell_type": "markdown",
   "metadata": {
    "id": "uE28Pse8PR6X"
   },
   "source": [
    "# Dynamic Embedding for the unsatisified link end nodes."
   ]
  },
  {
   "cell_type": "markdown",
   "metadata": {
    "id": "dqQM9f1kPiKZ"
   },
   "source": [
    "The one with the less node weight will be re-embedded."
   ]
  },
  {
   "cell_type": "code",
   "execution_count": null,
   "metadata": {
    "id": "qikkH5DXPn7R"
   },
   "outputs": [],
   "source": []
  }
 ],
 "metadata": {
  "colab": {
   "collapsed_sections": [],
   "name": "Generate.ipynb",
   "provenance": []
  },
  "kernelspec": {
   "display_name": "Python 3",
   "language": "python",
   "name": "python3"
  },
  "language_info": {
   "codemirror_mode": {
    "name": "ipython",
    "version": 3
   },
   "file_extension": ".py",
   "mimetype": "text/x-python",
   "name": "python",
   "nbconvert_exporter": "python",
   "pygments_lexer": "ipython3",
   "version": "3.6.5"
  }
 },
 "nbformat": 4,
 "nbformat_minor": 1
}
